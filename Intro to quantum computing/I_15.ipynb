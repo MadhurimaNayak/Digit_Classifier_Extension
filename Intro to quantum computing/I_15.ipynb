{
  "nbformat": 4,
  "nbformat_minor": 0,
  "metadata": {
    "colab": {
      "provenance": [],
      "toc_visible": true,
      "authorship_tag": "ABX9TyPujhNb9k10JaZztfw/lr9z"
    },
    "kernelspec": {
      "name": "python3",
      "display_name": "Python 3"
    },
    "language_info": {
      "name": "python"
    }
  },
  "cells": [
    {
      "cell_type": "markdown",
      "source": [
        "# Importing Libraries"
      ],
      "metadata": {
        "id": "vn0IT8bhKgKt"
      }
    },
    {
      "cell_type": "code",
      "source": [
        "import pennylane as qml\n",
        "from pennylane import numpy as np"
      ],
      "metadata": {
        "id": "0uzqppt2JvOV"
      },
      "execution_count": 22,
      "outputs": []
    },
    {
      "cell_type": "markdown",
      "source": [
        "#Codercise I.15.1.(a)"
      ],
      "metadata": {
        "id": "Mtic7zbrK5O7"
      }
    },
    {
      "cell_type": "code",
      "source": [
        "def state_preparation():\n",
        "    ##################\n",
        "    # YOUR CODE HERE #\n",
        "    ##################\n",
        "\n",
        "    # OPTIONALLY UPDATE THIS STATE PREPARATION ROUTINE\n",
        "\n",
        "    qml.Hadamard(wires=0)\n",
        "    qml.Rot(0.1, 0.2, 0.3, wires=0)\n"
      ],
      "metadata": {
        "id": "GtI3rwaKJ0lQ"
      },
      "execution_count": 25,
      "outputs": []
    },
    {
      "cell_type": "markdown",
      "source": [
        "# Codercise I.15.1.(b)"
      ],
      "metadata": {
        "id": "doh2twJgLLyf"
      }
    },
    {
      "cell_type": "code",
      "source": [
        "dev = qml.device(\"default.qubit\", wires=1)\n",
        "\n",
        "##################\n",
        "# YOUR CODE HERE #\n",
        "##################\n",
        "\n",
        "# OPTIONALLY REPLACE THIS STATE PREPARATION ROUTINE WITH\n",
        "# THE ONE FROM THE PREVIOUS EXERCISE\n",
        "\n",
        "def state_preparation():\n",
        "    qml.Hadamard(wires=0)\n",
        "    qml.Rot(0.1, 0.2, 0.3, wires=0)\n",
        "\n",
        "\n",
        "@qml.qnode(dev)\n",
        "def state_prep_only():\n",
        "    state_preparation()\n",
        "    return qml.state()\n",
        "\n",
        "print(state_prep_only())\n"
      ],
      "metadata": {
        "id": "3RvBBxDlJ2ie",
        "colab": {
          "base_uri": "https://localhost:8080/"
        },
        "outputId": "d4123c8e-676b-4b14-df71-6b48cf0e9bf4"
      },
      "execution_count": 26,
      "outputs": [
        {
          "output_type": "stream",
          "name": "stdout",
          "text": [
            "[0.61930934-0.13273109j 0.75978977+0.14682614j]\n"
          ]
        }
      ]
    },
    {
      "cell_type": "markdown",
      "source": [
        "#Codercise I.15.2."
      ],
      "metadata": {
        "id": "MFlrFxvHYFDk"
      }
    },
    {
      "cell_type": "code",
      "source": [
        "def entangle_qubits():\n",
        "    ##################\n",
        "    qml.Hadamard(wires=1)\n",
        "    qml.CNOT(wires=[1,2])\n",
        "    ##################\n",
        "\n",
        "    # ENTANGLE THE SECOND QUBIT (WIRES=1) AND THE THIRD QUBIT\n",
        "\n"
      ],
      "metadata": {
        "id": "Qq-lKE7OYIvT"
      },
      "execution_count": 27,
      "outputs": []
    },
    {
      "cell_type": "markdown",
      "source": [
        "#Codercise I.15.3."
      ],
      "metadata": {
        "id": "NWbnqElsYUxu"
      }
    },
    {
      "cell_type": "code",
      "source": [
        "def rotate_and_controls():\n",
        "    ##################\n",
        "    qml.CNOT(wires=[0,1])\n",
        "    qml.Hadamard(wires=0)\n",
        "    qml.CNOT(wires=[1,2])\n",
        "    qml.CZ(wires=[0,2])\n",
        "    ##################\n",
        "\n",
        "    # PERFORM THE BASIS ROTATION\n",
        "\n",
        "    # PERFORM THE CONTROLLED OPERATIONS\n",
        "\n"
      ],
      "metadata": {
        "id": "VBJ5S_7jYe6p"
      },
      "execution_count": 28,
      "outputs": []
    },
    {
      "cell_type": "markdown",
      "source": [
        "#Codercise I.15.4."
      ],
      "metadata": {
        "id": "K5qNXWrEYVNm"
      }
    },
    {
      "cell_type": "code",
      "source": [
        "dev = qml.device(\"default.qubit\", wires=3)\n",
        "\n",
        "##################\n",
        "# YOUR CODE HERE #\n",
        "##################\n",
        "\n",
        "# OPTIONALLY UPDATE THIS STATE PREPARATION ROUTINE\n",
        "def state_preparation():\n",
        "    qml.Hadamard(wires=0)\n",
        "    qml.Rot(0.1, 0.2, 0.3, wires=0)\n",
        "\n",
        "\n",
        "@qml.qnode(dev)\n",
        "def teleportation():\n",
        "    ##################\n",
        "    state_preparation()\n",
        "    entangle_qubits()\n",
        "    rotate_and_controls()\n",
        "\n",
        "    return qml.state()\n",
        "    ##################\n",
        "\n",
        "    # USE YOUR QUANTUM FUNCTIONS TO IMPLEMENT QUANTUM TELEPORTATION\n",
        "\n",
        "    # RETURN THE STATE\n",
        "\n",
        "\n",
        "print(teleportation())\n"
      ],
      "metadata": {
        "colab": {
          "base_uri": "https://localhost:8080/"
        },
        "id": "Nptd92BHYjb9",
        "outputId": "ce485400-a6ed-42a0-b2d5-bc0b531b1d2e"
      },
      "execution_count": 29,
      "outputs": [
        {
          "output_type": "stream",
          "name": "stdout",
          "text": [
            "[0.30965467-0.06636554j 0.37989488+0.07341307j 0.30965467-0.06636554j\n",
            " 0.37989488+0.07341307j 0.30965467-0.06636554j 0.37989488+0.07341307j\n",
            " 0.30965467-0.06636554j 0.37989488+0.07341307j]\n"
          ]
        }
      ]
    },
    {
      "cell_type": "markdown",
      "source": [
        "#Codercise I.15.5."
      ],
      "metadata": {
        "id": "mOUxDAnrYcHE"
      }
    },
    {
      "cell_type": "code",
      "source": [
        "def extract_qubit_state(input_state):\n",
        "    \"\"\"Extract the state of the third qubit from the combined state after teleportation.\n",
        "\n",
        "    Args:\n",
        "        input_state (array[complex]): A 3-qubit state of the form\n",
        "            (1/2)(|00> + |01> + |10> + |11>) (a|0> + b|1>)\n",
        "            obtained from the teleportation protocol.\n",
        "\n",
        "    Returns:\n",
        "        array[complex]: The state vector np.array([a, b]) of the third qubit.\n",
        "    \"\"\"\n",
        "\n",
        "    ##################\n",
        "    a=2*input_state[0]\n",
        "    b=2*input_state[1]\n",
        "    ##################\n",
        "\n",
        "    # DETERMINE THE STATE OF THE THIRD QUBIT\n",
        "\n",
        "    return np.array([a,b])\n",
        "\n",
        "\n",
        "# Here is the teleportation routine for you\n",
        "dev = qml.device(\"default.qubit\", wires=3)\n",
        "\n",
        "#################\n",
        "# YOUR CODE HERE #\n",
        "##################\n",
        "\n",
        "# OPTIONALLY UPDATE THIS STATE PREPARATION ROUTINE\n",
        "def state_preparation():\n",
        "    qml.Hadamard(wires=0)\n",
        "    qml.Rot(0.1, 0.2, 0.3, wires=0)\n",
        "\n",
        "\n",
        "@qml.qnode(dev)\n",
        "def teleportation():\n",
        "    state_preparation()\n",
        "    entangle_qubits()\n",
        "    rotate_and_controls()\n",
        "    return qml.state()\n",
        "\n",
        "# Print the extracted state after teleportation\n",
        "full_state = teleportation()\n",
        "print(extract_qubit_state(full_state))\n"
      ],
      "metadata": {
        "colab": {
          "base_uri": "https://localhost:8080/"
        },
        "id": "mgeWdoI9YnMR",
        "outputId": "33c257a0-e04e-4ebe-f7d6-14d6490d3df4"
      },
      "execution_count": 30,
      "outputs": [
        {
          "output_type": "stream",
          "name": "stdout",
          "text": [
            "[0.61930934-0.13273109j 0.75978977+0.14682614j]\n"
          ]
        }
      ]
    }
  ]
}